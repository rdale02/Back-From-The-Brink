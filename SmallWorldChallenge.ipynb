{
  "nbformat": 4,
  "nbformat_minor": 0,
  "metadata": {
    "colab": {
      "name": "SmallWorldChallenge.ipynb",
      "provenance": [],
      "toc_visible": true,
      "authorship_tag": "ABX9TyOyI9UOe+Q/G1yyEw+6E1Vr",
      "include_colab_link": true
    },
    "kernelspec": {
      "name": "python3",
      "display_name": "Python 3"
    },
    "language_info": {
      "name": "python"
    }
  },
  "cells": [
    {
      "cell_type": "markdown",
      "metadata": {
        "id": "view-in-github",
        "colab_type": "text"
      },
      "source": [
        "<a href=\"https://colab.research.google.com/github/rdale02/Back-From-The-Brink/blob/master/SmallWorldChallenge.ipynb\" target=\"_parent\"><img src=\"https://colab.research.google.com/assets/colab-badge.svg\" alt=\"Open In Colab\"/></a>"
      ]
    },
    {
      "cell_type": "markdown",
      "metadata": {
        "id": "qXBGA6e1Y2CK"
      },
      "source": [
        "SMALL WORLD:\n",
        "REVEAL 1 MONSTER IN YOUR HAND\n",
        "REVEAL 1 MONSTER IN YOUR DECK WITH THE SAME TYPE, ATTRIBUTE, ATK OR DEF (EXACTLY ONE) AS THE FIRST MONSTER\n",
        "ADD 1 MONSTER FROM YOUR DECK TO YOUR HAND WITH THE SAME TYPE, ATTRIBUTE, ATK OR DEF (EXACTLY ONE) AS THE SECOND MONSTER"
      ]
    },
    {
      "cell_type": "code",
      "metadata": {
        "id": "KQYEK0joZSaX"
      },
      "source": [
        "import pandas as pd\n",
        "deck = getDeck(\"/content/SAMPLE.csv\")\n",
        "card_set = deck.drop_duplicates() # ONE OF EVERY CARD IN THE DECK -ALSO USED FOR REFERENCE IN THE SECOND PASS\n",
        "df = secondPass(firstPass()).drop_duplicates()\n",
        "df.reset_index(drop=True)\n",
        "df.to_csv(\"output.csv\")\n"
      ],
      "execution_count": null,
      "outputs": []
    },
    {
      "cell_type": "markdown",
      "metadata": {
        "id": "oIRTNdZ7dc3r"
      },
      "source": [
        "FIRST CHECK:\n",
        "FOR EACH RECORD IN THE DECK, THE CARD IN YOUR HAND GETS COMPARED AGAINST IT FOR MATCHING FEATURES.\n",
        "\n",
        "REMOVE ALL INSTANCES OF THE CARD YOU HAVE IN HAND FROM THE POOL OF SEARCH CARDS"
      ]
    },
    {
      "cell_type": "code",
      "metadata": {
        "id": "dicpTOoDeOjT"
      },
      "source": [
        "def filter_deck(name):\n",
        "  return deck.drop(deck[deck['NAME'] == name].index)"
      ],
      "execution_count": 181,
      "outputs": []
    },
    {
      "cell_type": "markdown",
      "metadata": {
        "id": "vxw0gRiRTN5X"
      },
      "source": [
        "COMPARE THE TWO CARDS TO SEE IF THERE EXISTS EXACTLY ONE COMMON PROPERTY BETWEEN THEM"
      ]
    },
    {
      "cell_type": "code",
      "metadata": {
        "id": "wCjeLbkqAocB"
      },
      "source": [
        "def compare(name1, name2):\n",
        "  first = card_set[card_set['NAME']==name1].reset_index(drop=True)\n",
        "  second = card_set[card_set['NAME']==name2].reset_index(drop=True)\n",
        "  common_properties = 0\n",
        "  if(first['ATK'][0] == second['ATK'][0]):\n",
        "    common_properties += 1\n",
        "  if(first['DEF'][0] == second['DEF'][0]):\n",
        "    common_properties += 1\n",
        "  if(first['TYPE'][0] == second['TYPE'][0]):\n",
        "    common_properties += 1 \n",
        "  if(first['ATTRIBUTE'][0] == second['ATTRIBUTE'][0]):\n",
        "    common_properties += 1 \n",
        "  if(first['LEVEL'][0] == second['LEVEL'][0]):\n",
        "    common_properties += 1\n",
        "  return (common_properties == 1)"
      ],
      "execution_count": 200,
      "outputs": []
    },
    {
      "cell_type": "code",
      "metadata": {
        "id": "_6gqFgpKkoVV"
      },
      "source": [
        "def firstPass():\n",
        "  results = pd.DataFrame(columns=['HAND','DECK','SEARCH'])\n",
        "  end_results = pd.DataFrame(columns=['HAND','DECK','SEARCH'])\n",
        "  for i, row in card_set.iterrows(): # for each available card\n",
        "    filtered_deck = filter_deck(card_set['NAME'][i])\n",
        "    for j, row in filtered_deck.iterrows():\n",
        "      if(compare(card_set['NAME'][i], filtered_deck['NAME'][j])):\n",
        "        results = results.append(pd.DataFrame([[card_set['NAME'][i],filtered_deck['NAME'][j]]],columns=['HAND','DECK'])).reset_index(drop=True)\n",
        "  return results"
      ],
      "execution_count": 198,
      "outputs": []
    },
    {
      "cell_type": "markdown",
      "metadata": {
        "id": "mehL4e5txLoj"
      },
      "source": [
        "TAKE THE RESULTS OF THE FIRST PASS AS CHAIN LINKS. YOU HAVE THE FIRST AND SECOND LINKS IN THE CHAIN; YOU JUST NEED THE THIRD.\n",
        "FOR EACH COMBINATION OF CARDS RETURNED IN THE FIRST PASS, YOU NOW NEED TO SHOW ALL THE CARDS THAT THEY CAN PULL OUT OF THE DECK TOGETHER.\n",
        "FOR EXAMPLE, 'GHOST BELLE & HAUNTED MANSION' CAN BE USED TO BANISH 'EFFECT VEILER' FROM THE DECK SINCE BOTH HAVE 0 ATK. NOW THAT 'EFFECT VEILER' IS BANISHED, YOU CAN SEARCH FOR 'BACKUP SECRETARY' BECAUSE BOTH OF THESE CARDS ARE 'LIGHT' ATTRIBUTE. "
      ]
    },
    {
      "cell_type": "code",
      "metadata": {
        "id": "pEA9hcJGxDRX"
      },
      "source": [
        "def secondPass(results):\n",
        "  end_results = pd.DataFrame(columns=['HAND','DECK','SEARCH'])\n",
        "  for i, row in results.iterrows():\n",
        "    print(row)\n",
        "    # check the card in Results against the cards in the deck\n",
        "    filtered_deck = filter_deck(results['DECK'][i])\n",
        "    for j, row in filtered_deck.iterrows():\n",
        "      print(results['DECK'][i],filtered_deck['NAME'][j],compare(results['DECK'][i],filtered_deck['NAME'][j]))\n",
        "      if (compare(results['DECK'][i],filtered_deck['NAME'][j])):\n",
        "        end_results = end_results.append(pd.DataFrame([[results['HAND'][i], results['DECK'][i],filtered_deck['NAME'][j]]],columns=['HAND','DECK','SEARCH'])).reset_index(drop=True)\n",
        "  return end_results\n",
        " "
      ],
      "execution_count": 201,
      "outputs": []
    },
    {
      "cell_type": "code",
      "metadata": {
        "id": "kAmF7H8TiVed"
      },
      "source": [
        "def getDeck(path):\n",
        "  return pd.read_csv(path)"
      ],
      "execution_count": 41,
      "outputs": []
    }
  ]
}